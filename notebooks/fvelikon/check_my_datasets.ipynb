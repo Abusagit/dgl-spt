{
 "cells": [
  {
   "cell_type": "code",
   "execution_count": null,
   "metadata": {},
   "outputs": [],
   "source": [
    "%env CUDA_VISIBLE_DEVICES=0\n",
    "\n",
    "import numpy as np\n",
    "import networkx as nx\n",
    "import pandas as pd\n",
    "import cudf\n",
    "import cugraph\n",
    "import time\n",
    "from cuxfilter.charts.datashader.custom_extensions.graph_assets import calc_connected_edges\n",
    "\n",
    "# import plotly.express as px\n",
    "# import plotly.graph_objects as go\n",
    "\n",
    "ITERATIONS=500\n",
    "THETA=1.0\n",
    "OPTIMIZE=True\n",
    "\n",
    "import holoviews as hv\n",
    "\n",
    "from colorcet import fire\n",
    "\n",
    "from holoviews.operation.datashader import datashade, dynspread\n",
    "from holoviews.operation import decimate\n",
    "\n",
    "from dask.distributed import Client\n",
    "\n",
    "client = Client()\n",
    "hv.notebook_extension('bokeh', 'matplotlib')\n",
    "decimate.max_samples=20000\n",
    "dynspread.threshold=0.01\n",
    "datashade.cmap=fire[40:]\n",
    "sz = dict(width=150,height=150)\n",
    "%opts RGB [xaxis=None yaxis=None show_grid=False bgcolor=\"black\"]\n"
   ]
  },
  {
   "cell_type": "code",
   "execution_count": null,
   "metadata": {},
   "outputs": [],
   "source": [
    "def get_connected_dots_for_graph(edges):\n",
    "    edgelist = pd.DataFrame(edges, columns=[\"source\", \"target\"])\n",
    "    G = cugraph.Graph()\n",
    "    G.from_pandas_edgelist(edgelist, source=\"source\", destination=\"target\", renumber=True)\n",
    "    # G.from_numpy_array(graph_edgelist.values, nodes=np.unique(graph_edgelist.values))\n",
    "    # G.from_numpy_array(graph_edgelist.values, nodes=None)\n",
    "    # G.from_cudf_edgelist(cudf.from_dataframe(graph_edgelist.rename({'target': 'destination'}, axis='columns').iloc[:1], allow_copy=True), renumber=False)\n",
    "    G.number_of_nodes(), G.number_of_edges()\n",
    "\n",
    "\n",
    "    start = time.time()\n",
    "    pos_gdf = cugraph.layout.force_atlas2(G,\n",
    "                                    max_iter=ITERATIONS,\n",
    "                                    pos_list=None,\n",
    "                                    outbound_attraction_distribution=True,\n",
    "                                    lin_log_mode=False,\n",
    "                                    edge_weight_influence=1.0,\n",
    "                                    jitter_tolerance=1.0,\n",
    "                                    barnes_hut_optimize=OPTIMIZE,\n",
    "                                    barnes_hut_theta=THETA,\n",
    "                                    scaling_ratio=2.0,\n",
    "                                    strong_gravity_mode=False,\n",
    "                                    gravity=1.0,\n",
    "                                    verbose=False,\n",
    "                                    callback=None,\n",
    "    )\n",
    "    elapsed = time.time() - start\n",
    "    print(\"Cugraph time for obtaining layout: \" + str(elapsed))\n",
    "    connected = calc_connected_edges(pos_gdf,\n",
    "                                    cudf.from_dataframe(edgelist, allow_copy=True),\n",
    "                                    node_x=\"x\",\n",
    "                                    node_y=\"y\",\n",
    "                                    node_x_dtype=\"float32\",\n",
    "                                    node_y_dtype=\"float32\",\n",
    "                                    node_id=\"vertex\",\n",
    "                                    edge_source=\"source\",\n",
    "                                    edge_target=\"target\",\n",
    "                                    edge_aggregate_col=None,\n",
    "                                    edge_render_type=\"direct\",\n",
    "                                    )\n",
    "\n",
    "    return connected\n"
   ]
  },
  {
   "cell_type": "markdown",
   "metadata": {},
   "source": [
    "## Weather ERA5"
   ]
  },
  {
   "cell_type": "code",
   "execution_count": null,
   "metadata": {},
   "outputs": [],
   "source": [
    "era5_dataset = np.load(\"../../data/era5_usa.npz\", allow_pickle=True)\n",
    "edges = era5_dataset[\"edges\"]"
   ]
  },
  {
   "cell_type": "code",
   "execution_count": null,
   "metadata": {},
   "outputs": [],
   "source": [
    "pd.DataFrame(data=edges, columns=[\"source\", \"target\"]).groupby(\"source\").count()[\"target\"].value_counts()"
   ]
  },
  {
   "cell_type": "code",
   "execution_count": null,
   "metadata": {},
   "outputs": [],
   "source": [
    "list(era5_dataset.keys())\n"
   ]
  },
  {
   "cell_type": "code",
   "execution_count": null,
   "metadata": {},
   "outputs": [],
   "source": [
    "era5_dataset[\"spatial_node_features\"]"
   ]
  },
  {
   "cell_type": "code",
   "execution_count": null,
   "metadata": {},
   "outputs": [],
   "source": [
    "latitudes = era5_dataset[\"spatial_node_features\"][..., 0]\n",
    "longitudes = era5_dataset[\"spatial_node_features\"][..., 1]\n"
   ]
  },
  {
   "cell_type": "code",
   "execution_count": null,
   "metadata": {},
   "outputs": [],
   "source": [
    "latitudes"
   ]
  },
  {
   "cell_type": "code",
   "execution_count": null,
   "metadata": {},
   "outputs": [],
   "source": [
    "longitudes"
   ]
  },
  {
   "cell_type": "code",
   "execution_count": null,
   "metadata": {},
   "outputs": [],
   "source": [
    "num_latitude_values = len(set(*latitudes.tolist()))\n",
    "num_latitude_values\n"
   ]
  },
  {
   "cell_type": "code",
   "execution_count": null,
   "metadata": {},
   "outputs": [],
   "source": [
    "num_longitude_values = len(set(*longitudes.tolist()))\n",
    "num_longitude_values"
   ]
  },
  {
   "cell_type": "code",
   "execution_count": null,
   "metadata": {},
   "outputs": [],
   "source": [
    "def create_edge_list(m, n):\n",
    "    edge_list = []\n",
    "\n",
    "    for i in range(m):\n",
    "        for j in range(n):\n",
    "            node = i * m + j\n",
    "            \n",
    "            # Connect to the right neighbor\n",
    "            if j < n - 1:\n",
    "                right_neighbor = node + 1\n",
    "                edge_list.append((node, right_neighbor))\n",
    "                edge_list.append((right_neighbor, node))\n",
    "                if i < m - 1:\n",
    "                    right_bottom_neighbor = (i + 1) * m + j + 1\n",
    "                    edge_list.append((right_bottom_neighbor, node))\n",
    "                    edge_list.append((node, right_bottom_neighbor))\n",
    "                if i > 0:\n",
    "                    right_top_neighbor = (i - 1) * m + j + 1\n",
    "                    edge_list.append((right_top_neighbor, node))\n",
    "                    edge_list.append((node, right_top_neighbor))\n",
    "\n",
    "            # Connect to the bottom neighbor\n",
    "            if i < m - 1:\n",
    "                bottom_neighbor = node + m\n",
    "                edge_list.append((node, bottom_neighbor))\n",
    "                edge_list.append((bottom_neighbor, node))\n",
    "                \n",
    "\n",
    "    edge_list = np.array(edge_list).T\n",
    "    \n",
    "    return edge_list"
   ]
  },
  {
   "cell_type": "code",
   "execution_count": null,
   "metadata": {},
   "outputs": [],
   "source": [
    "%%opts RGB [tools=[\"hover\"] width=1200 height=1200]\n",
    "connected = get_connected_dots_for_graph(edges)\n",
    "r_direct = hv.Curve(connected, label=\"Direct\")\n",
    "datashade(r_direct)"
   ]
  },
  {
   "cell_type": "code",
   "execution_count": null,
   "metadata": {},
   "outputs": [],
   "source": [
    "%%opts RGB [tools=[\"hover\"] width=1200 height=1200]\n",
    "era5_correct_edges = create_edge_list(m=num_latitude_values, n=num_longitude_values).T\n",
    "\n",
    "connected = get_connected_dots_for_graph(era5_correct_edges)\n",
    "r_direct = hv.Curve(connected, label=\"Direct\")\n",
    "datashade(r_direct)"
   ]
  },
  {
   "cell_type": "code",
   "execution_count": null,
   "metadata": {},
   "outputs": [],
   "source": [
    "# %%opts RGB [tools=[\"hover\"] width=1200 height=1200]\n",
    "# edges_2 = create_edge_list(5, 4).T\n",
    "\n",
    "# connected = get_connected_dots_for_graph(edges_2)\n",
    "# r_direct = hv.Curve(connected, label=\"Direct\")\n",
    "# datashade(r_direct)"
   ]
  },
  {
   "cell_type": "code",
   "execution_count": null,
   "metadata": {},
   "outputs": [],
   "source": [
    "list(era5_dataset.keys())"
   ]
  },
  {
   "cell_type": "code",
   "execution_count": null,
   "metadata": {},
   "outputs": [],
   "source": [
    "era5_targets = era5_dataset[\"targets\"]"
   ]
  },
  {
   "cell_type": "code",
   "execution_count": null,
   "metadata": {},
   "outputs": [],
   "source": [
    "era5_targets, np.isnan(era5_targets).any()"
   ]
  },
  {
   "cell_type": "code",
   "execution_count": null,
   "metadata": {},
   "outputs": [],
   "source": [
    "era5_temporal_features = era5_dataset[\"temporal_node_features\"]"
   ]
  },
  {
   "cell_type": "code",
   "execution_count": null,
   "metadata": {},
   "outputs": [],
   "source": [
    "era5_temporal_features, np.isnan(era5_temporal_features).any(), era5_dataset[\"temporal_node_feature_names\"]"
   ]
  },
  {
   "cell_type": "code",
   "execution_count": null,
   "metadata": {},
   "outputs": [],
   "source": [
    "era5_spatiotemporal_features = era5_dataset[\"spatiotemporal_node_features\"]"
   ]
  },
  {
   "cell_type": "code",
   "execution_count": null,
   "metadata": {},
   "outputs": [],
   "source": [
    "era5_spatiotemporal_features, era5_dataset[\"spatiotemporal_node_feature_names\"]"
   ]
  },
  {
   "cell_type": "code",
   "execution_count": null,
   "metadata": {},
   "outputs": [],
   "source": [
    "np.cumprod(era5_spatiotemporal_features.shape)"
   ]
  },
  {
   "cell_type": "code",
   "execution_count": null,
   "metadata": {},
   "outputs": [],
   "source": [
    "empty_features_mask = np.isnan(era5_spatiotemporal_features).sum((0, 1)) == 209879616\n",
    "empty_features_mask"
   ]
  },
  {
   "cell_type": "code",
   "execution_count": null,
   "metadata": {},
   "outputs": [],
   "source": [
    "era5_spatiotemporal_features_only_nonempty = era5_spatiotemporal_features[..., ~empty_features_mask]\n",
    "nonempty_features_with_nan_mask = np.isnan(era5_spatiotemporal_features_only_nonempty).sum((0, 1))\n",
    "nonempty_features_with_nan_mask\n"
   ]
  },
  {
   "cell_type": "code",
   "execution_count": null,
   "metadata": {},
   "outputs": [],
   "source": [
    "np.isnan(era5_spatiotemporal_features_only_nonempty[..., nonempty_features_with_nan_mask > 0][..., 0]).sum(0) > 0"
   ]
  },
  {
   "cell_type": "code",
   "execution_count": null,
   "metadata": {},
   "outputs": [],
   "source": [
    "era5_spatiotemporal_features_names = era5_dataset[\"spatiotemporal_node_feature_names\"]\n",
    "era5_spatiotemporal_features_names_nonempty = era5_spatiotemporal_features_names[~empty_features_mask]\n",
    "\n",
    "era5_spatiotemporal_features_empty = era5_spatiotemporal_features_names[empty_features_mask]"
   ]
  },
  {
   "cell_type": "code",
   "execution_count": null,
   "metadata": {},
   "outputs": [],
   "source": [
    "era5_spatiotemporal_features_empty"
   ]
  },
  {
   "cell_type": "code",
   "execution_count": null,
   "metadata": {},
   "outputs": [],
   "source": [
    "num_features_names_new = np.array(list(set(era5_dataset[\"num_feature_names\"].tolist()) - set(era5_spatiotemporal_features_empty.tolist())))\n",
    "num_features_names_new"
   ]
  },
  {
   "cell_type": "code",
   "execution_count": null,
   "metadata": {},
   "outputs": [],
   "source": [
    "era5_dataset[\"bin_feature_names\"]"
   ]
  },
  {
   "cell_type": "code",
   "execution_count": null,
   "metadata": {},
   "outputs": [],
   "source": [
    "era5_dataset[\"cat_feature_names\"]"
   ]
  },
  {
   "cell_type": "code",
   "execution_count": null,
   "metadata": {},
   "outputs": [],
   "source": []
  },
  {
   "cell_type": "markdown",
   "metadata": {},
   "source": [
    "### Summary\n",
    "- Corrected graph structure\n",
    "- Removed completely empty columns"
   ]
  },
  {
   "cell_type": "code",
   "execution_count": null,
   "metadata": {},
   "outputs": [],
   "source": [
    "# era5_dataset = dict(**era5_dataset)\n",
    "# era5_dataset[\"edges\"] = era5_correct_edges\n",
    "# np.savez_compressed(file=\"../../data/era5_usa.npz\", **era5_dataset)"
   ]
  },
  {
   "cell_type": "markdown",
   "metadata": {},
   "source": [
    "# City roads"
   ]
  },
  {
   "cell_type": "code",
   "execution_count": null,
   "metadata": {},
   "outputs": [],
   "source": [
    "city_roads_dataset = np.load(\"../../data/traffic_jams.npz\",allow_pickle=True)\n",
    "print(list(city_roads_dataset.keys()))\n",
    "edges_roads = city_roads_dataset[\"edges\"]"
   ]
  },
  {
   "cell_type": "code",
   "execution_count": null,
   "metadata": {},
   "outputs": [],
   "source": [
    "city_roads_datasetхЭьуеф"
   ]
  },
  {
   "cell_type": "code",
   "execution_count": null,
   "metadata": {},
   "outputs": [],
   "source": [
    "# %%opts RGB [tools=[\"hover\"] width=1200 height=1200]\n",
    "\n",
    "# connected = get_connected_dots_for_graph(edges_roads)\n",
    "# r_direct = hv.Curve(connected, label=\"Direct\")\n",
    "# datashade(r_direct)"
   ]
  },
  {
   "cell_type": "code",
   "execution_count": null,
   "metadata": {},
   "outputs": [],
   "source": [
    "!"
   ]
  },
  {
   "cell_type": "code",
   "execution_count": null,
   "metadata": {},
   "outputs": [],
   "source": [
    "!ls /home/fvelikon/projects/dgl-spt/notebooks/fvelikon/data_from_yt_jams"
   ]
  },
  {
   "cell_type": "code",
   "execution_count": null,
   "metadata": {},
   "outputs": [],
   "source": [
    "np.save(\"/home/fvelikon/projects/dgl-spt/notebooks/fvelikon/data_from_yt_jams/time_series_component.npy\", cuty_roads_targets)"
   ]
  },
  {
   "cell_type": "code",
   "execution_count": null,
   "metadata": {},
   "outputs": [],
   "source": [
    "import torch\n",
    "\n",
    "\n",
    "targets_torch = torch.load(\"~/projects/dgl-spt/notebooks/fvelikon/data_from_yt_jams/time_series_component.pt\")\n",
    "targets_torch"
   ]
  },
  {
   "cell_type": "code",
   "execution_count": null,
   "metadata": {},
   "outputs": [],
   "source": [
    "cuty_roads_targets = city_roads_dataset[\"targets\"]"
   ]
  },
  {
   "cell_type": "code",
   "execution_count": null,
   "metadata": {},
   "outputs": [],
   "source": [
    "np.isnan(cuty_roads_targets).any()"
   ]
  },
  {
   "cell_type": "code",
   "execution_count": null,
   "metadata": {},
   "outputs": [],
   "source": [
    "cuty_roads_targets"
   ]
  },
  {
   "cell_type": "code",
   "execution_count": null,
   "metadata": {},
   "outputs": [],
   "source": [
    "cuty_roads_targets.shape"
   ]
  },
  {
   "cell_type": "code",
   "execution_count": null,
   "metadata": {},
   "outputs": [],
   "source": [
    "cuty_roads_targets"
   ]
  },
  {
   "cell_type": "code",
   "execution_count": null,
   "metadata": {},
   "outputs": [],
   "source": [
    "cuty_roads_targets[~np.isnan(cuty_roads_targets)].reshape(-1).max()"
   ]
  },
  {
   "cell_type": "code",
   "execution_count": null,
   "metadata": {},
   "outputs": [],
   "source": [
    "cuty_roads_targets[np.logical_and(~np.isnan(cuty_roads_targets), cuty_roads_targets > 0)].reshape(-1).min()"
   ]
  },
  {
   "cell_type": "code",
   "execution_count": null,
   "metadata": {},
   "outputs": [],
   "source": [
    "cuty_roads_targets.shape"
   ]
  },
  {
   "cell_type": "code",
   "execution_count": null,
   "metadata": {},
   "outputs": [],
   "source": [
    "np.isnan(cuty_roads_targets).shape"
   ]
  },
  {
   "cell_type": "code",
   "execution_count": null,
   "metadata": {},
   "outputs": [],
   "source": [
    "np.isnan(cuty_roads_targets).sum(1).max()"
   ]
  },
  {
   "cell_type": "code",
   "execution_count": null,
   "metadata": {},
   "outputs": [],
   "source": [
    "edges_roads.max()"
   ]
  },
  {
   "cell_type": "code",
   "execution_count": null,
   "metadata": {},
   "outputs": [],
   "source": []
  },
  {
   "cell_type": "code",
   "execution_count": null,
   "metadata": {},
   "outputs": [],
   "source": [
    "cuty_roads_targets, np.isnan(cuty_roads_targets).any()"
   ]
  },
  {
   "cell_type": "code",
   "execution_count": null,
   "metadata": {},
   "outputs": [],
   "source": [
    "city_targets = cuty_roads_targets[cuty_roads_targets > 0].reshape(-1)\n",
    "\n"
   ]
  },
  {
   "cell_type": "code",
   "execution_count": null,
   "metadata": {},
   "outputs": [],
   "source": []
  },
  {
   "cell_type": "code",
   "execution_count": null,
   "metadata": {},
   "outputs": [],
   "source": [
    "cuty_roads_targets.shape"
   ]
  },
  {
   "cell_type": "code",
   "execution_count": null,
   "metadata": {},
   "outputs": [],
   "source": []
  },
  {
   "cell_type": "code",
   "execution_count": null,
   "metadata": {},
   "outputs": [],
   "source": [
    "np.isnan(cuty_roads_targets).sum(0).max()"
   ]
  },
  {
   "cell_type": "code",
   "execution_count": null,
   "metadata": {},
   "outputs": [],
   "source": []
  },
  {
   "cell_type": "code",
   "execution_count": null,
   "metadata": {},
   "outputs": [],
   "source": [
    "cuty_roads_temporal_features = city_roads_dataset[\"temporal_node_features\"]"
   ]
  },
  {
   "cell_type": "code",
   "execution_count": null,
   "metadata": {},
   "outputs": [],
   "source": [
    "cuty_roads_temporal_features, np.isnan(cuty_roads_temporal_features).any(), city_roads_dataset[\"temporal_node_feature_names\"]"
   ]
  },
  {
   "cell_type": "code",
   "execution_count": null,
   "metadata": {},
   "outputs": [],
   "source": [
    "cuty_roads_spatiotemporal_features = city_roads_dataset[\"spatiotemporal_node_features\"]"
   ]
  },
  {
   "cell_type": "code",
   "execution_count": null,
   "metadata": {},
   "outputs": [],
   "source": []
  },
  {
   "cell_type": "code",
   "execution_count": null,
   "metadata": {},
   "outputs": [],
   "source": [
    "cuty_roads_spatiotemporal_features, city_roads_dataset[\"spatiotemporal_node_feature_names\"]"
   ]
  },
  {
   "cell_type": "code",
   "execution_count": null,
   "metadata": {},
   "outputs": [],
   "source": [
    "np.isnan(cuty_roads_spatiotemporal_features).any()"
   ]
  },
  {
   "cell_type": "code",
   "execution_count": null,
   "metadata": {},
   "outputs": [],
   "source": [
    "spatial_features = city_roads_dataset[\"spatial_node_features\"]\n",
    "\n"
   ]
  },
  {
   "cell_type": "code",
   "execution_count": null,
   "metadata": {},
   "outputs": [],
   "source": [
    "spatial_features, np.isnan(spatial_features).any(), city_roads_dataset[\"spatial_node_feature_names\"]"
   ]
  },
  {
   "cell_type": "code",
   "execution_count": null,
   "metadata": {},
   "outputs": [],
   "source": []
  },
  {
   "cell_type": "code",
   "execution_count": null,
   "metadata": {},
   "outputs": [],
   "source": []
  },
  {
   "cell_type": "code",
   "execution_count": null,
   "metadata": {},
   "outputs": [],
   "source": []
  },
  {
   "cell_type": "code",
   "execution_count": null,
   "metadata": {},
   "outputs": [],
   "source": []
  },
  {
   "cell_type": "code",
   "execution_count": null,
   "metadata": {},
   "outputs": [],
   "source": []
  },
  {
   "cell_type": "markdown",
   "metadata": {},
   "source": [
    "# Browser games"
   ]
  },
  {
   "cell_type": "code",
   "execution_count": null,
   "metadata": {},
   "outputs": [],
   "source": [
    "# %%opts RGB [tools=[\"hover\"] width=1200 height=1200]\n",
    "\n",
    "# r_direct = hv.Curve(get_connected_dots_for_graph(np.load(\"../../data/ts_browser_games_v1.npz\")[\"edges\"]), label=\"Direct\")\n",
    "# datashade(r_direct)"
   ]
  },
  {
   "cell_type": "code",
   "execution_count": null,
   "metadata": {},
   "outputs": [],
   "source": [
    "browser_games_data = np.load(\"../../data/ts_browser_games_v1.npz\", allow_pickle=True)\n",
    "\n",
    "print(list(browser_games_data.keys()))"
   ]
  },
  {
   "cell_type": "code",
   "execution_count": null,
   "metadata": {},
   "outputs": [],
   "source": [
    "browser_games_targets = browser_games_data[\"targets\"]"
   ]
  },
  {
   "cell_type": "code",
   "execution_count": null,
   "metadata": {},
   "outputs": [],
   "source": [
    "browser_games_targets, np.isnan(browser_games_targets).any()"
   ]
  },
  {
   "cell_type": "code",
   "execution_count": null,
   "metadata": {},
   "outputs": [],
   "source": []
  },
  {
   "cell_type": "code",
   "execution_count": null,
   "metadata": {},
   "outputs": [],
   "source": [
    "browser_games_targets.shape"
   ]
  },
  {
   "cell_type": "code",
   "execution_count": null,
   "metadata": {},
   "outputs": [],
   "source": [
    "browser_games_temporal_features = browser_games_data[\"temporal_node_features\"]"
   ]
  },
  {
   "cell_type": "code",
   "execution_count": null,
   "metadata": {},
   "outputs": [],
   "source": [
    "browser_games_temporal_features, np.isnan(browser_games_temporal_features).any(), browser_games_data[\"temporal_node_feature_names\"]"
   ]
  },
  {
   "cell_type": "code",
   "execution_count": null,
   "metadata": {},
   "outputs": [],
   "source": [
    "browser_games_spatiotemporal_features = browser_games_data[\"spatiotemporal_node_features\"]"
   ]
  },
  {
   "cell_type": "code",
   "execution_count": null,
   "metadata": {},
   "outputs": [],
   "source": [
    "browser_games_spatiotemporal_features, browser_games_data[\"spatiotemporal_node_feature_names\"]"
   ]
  },
  {
   "cell_type": "code",
   "execution_count": null,
   "metadata": {},
   "outputs": [],
   "source": [
    "560494080 / 46707840"
   ]
  },
  {
   "cell_type": "code",
   "execution_count": null,
   "metadata": {},
   "outputs": [],
   "source": [
    "np.cumprod(browser_games_spatiotemporal_features.shape)"
   ]
  },
  {
   "cell_type": "code",
   "execution_count": null,
   "metadata": {},
   "outputs": [],
   "source": [
    "np.isnan(browser_games_spatiotemporal_features).sum((0, 1))"
   ]
  },
  {
   "cell_type": "code",
   "execution_count": null,
   "metadata": {},
   "outputs": [],
   "source": [
    "np.isnan(browser_games_spatiotemporal_features)[..., 0].sum(0)"
   ]
  },
  {
   "cell_type": "code",
   "execution_count": null,
   "metadata": {},
   "outputs": [],
   "source": [
    "np.isnan(browser_games_spatiotemporal_features)[..., 1].sum(0)"
   ]
  },
  {
   "cell_type": "code",
   "execution_count": null,
   "metadata": {},
   "outputs": [],
   "source": [
    "np.isnan(browser_games_spatiotemporal_features)[..., 2].sum(0)"
   ]
  },
  {
   "cell_type": "code",
   "execution_count": null,
   "metadata": {},
   "outputs": [],
   "source": [
    "np.isnan(browser_games_spatiotemporal_features)[..., 3].sum(0)"
   ]
  },
  {
   "cell_type": "code",
   "execution_count": null,
   "metadata": {},
   "outputs": [],
   "source": [
    "np.isnan(browser_games_spatiotemporal_features)[..., 4].sum(0)"
   ]
  },
  {
   "cell_type": "code",
   "execution_count": null,
   "metadata": {},
   "outputs": [],
   "source": [
    "np.isnan(browser_games_spatiotemporal_features)[..., 5].sum(0)"
   ]
  },
  {
   "cell_type": "code",
   "execution_count": null,
   "metadata": {},
   "outputs": [],
   "source": [
    "np.isnan(browser_games_spatiotemporal_features)[..., 6].sum(0)"
   ]
  },
  {
   "cell_type": "code",
   "execution_count": null,
   "metadata": {},
   "outputs": [],
   "source": [
    "np.isnan(browser_games_spatiotemporal_features)[..., 7].sum(0)"
   ]
  },
  {
   "cell_type": "code",
   "execution_count": null,
   "metadata": {},
   "outputs": [],
   "source": [
    "np.isnan(browser_games_spatiotemporal_features)[..., 8].sum(0)"
   ]
  },
  {
   "cell_type": "code",
   "execution_count": null,
   "metadata": {},
   "outputs": [],
   "source": [
    "np.isnan(browser_games_spatiotemporal_features)[..., 9].sum(0)"
   ]
  },
  {
   "cell_type": "code",
   "execution_count": null,
   "metadata": {},
   "outputs": [],
   "source": [
    "np.isnan(browser_games_spatiotemporal_features)[..., 10].sum(0)"
   ]
  },
  {
   "cell_type": "code",
   "execution_count": null,
   "metadata": {},
   "outputs": [],
   "source": [
    "np.isnan(browser_games_spatiotemporal_features)[..., 11].sum(0)"
   ]
  },
  {
   "cell_type": "code",
   "execution_count": null,
   "metadata": {},
   "outputs": [],
   "source": [
    "browser_games_spatiotemporal_features.shape"
   ]
  },
  {
   "cell_type": "code",
   "execution_count": null,
   "metadata": {},
   "outputs": [],
   "source": [
    "import plotly.express as px\n",
    "\n",
    "px.scatter(np.isnan(browser_games_spatiotemporal_features)[..., 11].sum(0), title=\"# of NaNs for each node at EACH timestamp (values across different timestamps are equal)\")"
   ]
  },
  {
   "cell_type": "code",
   "execution_count": null,
   "metadata": {},
   "outputs": [],
   "source": [
    "px.scatter(np.isnan(browser_games_spatiotemporal_features)[..., 11].sum(1), title=\"# of NaNs for each timestamp for EACH node (values across different nodes are equal)\")"
   ]
  },
  {
   "cell_type": "code",
   "execution_count": null,
   "metadata": {},
   "outputs": [],
   "source": [
    "\n",
    "all_equal = True\n",
    "\n",
    "prev = np.isnan(browser_games_spatiotemporal_features)[..., 0].sum(0)\n",
    "for i in range(1, 12):\n",
    "    new = np.isnan(browser_games_spatiotemporal_features)[..., i].sum(0)\n",
    "    all_equal = all_equal and np.allclose(prev, new)\n",
    "    prev = new\n",
    "print(all_equal)"
   ]
  },
  {
   "cell_type": "code",
   "execution_count": null,
   "metadata": {},
   "outputs": [],
   "source": [
    "\n",
    "all_equal = True\n",
    "\n",
    "prev = np.isnan(browser_games_spatiotemporal_features)[..., 0].sum(1)\n",
    "for i in range(1, 12):\n",
    "    new = np.isnan(browser_games_spatiotemporal_features)[..., i].sum(1)\n",
    "    all_equal = all_equal and np.allclose(prev, new)\n",
    "    prev = new\n",
    "print(all_equal)"
   ]
  },
  {
   "cell_type": "code",
   "execution_count": null,
   "metadata": {},
   "outputs": [],
   "source": []
  },
  {
   "cell_type": "code",
   "execution_count": null,
   "metadata": {},
   "outputs": [],
   "source": []
  },
  {
   "cell_type": "code",
   "execution_count": null,
   "metadata": {},
   "outputs": [],
   "source": []
  },
  {
   "cell_type": "code",
   "execution_count": null,
   "metadata": {},
   "outputs": [],
   "source": []
  },
  {
   "cell_type": "code",
   "execution_count": null,
   "metadata": {},
   "outputs": [],
   "source": []
  },
  {
   "cell_type": "code",
   "execution_count": null,
   "metadata": {},
   "outputs": [],
   "source": [
    "set(browser_games_data[\"spatiotemporal_node_feature_names\"].tolist()) & set(browser_games_data[\"bin_feature_names\"].tolist())"
   ]
  },
  {
   "cell_type": "code",
   "execution_count": null,
   "metadata": {},
   "outputs": [],
   "source": [
    "set(browser_games_data[\"spatiotemporal_node_feature_names\"].tolist()) & set(browser_games_data[\"cat_feature_names\"].tolist())"
   ]
  },
  {
   "cell_type": "code",
   "execution_count": null,
   "metadata": {},
   "outputs": [],
   "source": [
    "set(browser_games_data[\"num_feature_names\"].tolist()) - (set(browser_games_data[\"spatiotemporal_node_feature_names\"].tolist()) | set(browser_games_data[\"spatial_node_feature_names\"].tolist()) | set(browser_games_data[\"temporal_node_feature_names\"].tolist()))"
   ]
  },
  {
   "cell_type": "code",
   "execution_count": null,
   "metadata": {},
   "outputs": [],
   "source": []
  },
  {
   "cell_type": "code",
   "execution_count": null,
   "metadata": {},
   "outputs": [],
   "source": [
    "browser_games_data[\"bin_feature_names\"]"
   ]
  },
  {
   "cell_type": "code",
   "execution_count": null,
   "metadata": {},
   "outputs": [],
   "source": [
    "browser_games_data[\"cat_feature_names\"]"
   ]
  },
  {
   "cell_type": "code",
   "execution_count": null,
   "metadata": {},
   "outputs": [],
   "source": [
    "browser_games_spatial_features = browser_games_data[\"spatial_node_features\"]\n"
   ]
  },
  {
   "cell_type": "code",
   "execution_count": null,
   "metadata": {},
   "outputs": [],
   "source": [
    "browser_games_spatial_features, np.isnan(browser_games_spatial_features).any(), browser_games_data[\"spatial_node_feature_names\"]"
   ]
  },
  {
   "cell_type": "code",
   "execution_count": null,
   "metadata": {},
   "outputs": [],
   "source": [
    "np.cumprod(browser_games_spatial_features.shape), browser_games_spatial_features.shape"
   ]
  },
  {
   "cell_type": "code",
   "execution_count": null,
   "metadata": {},
   "outputs": [],
   "source": [
    "np.isnan(browser_games_spatial_features).sum((0, 1))"
   ]
  },
  {
   "cell_type": "code",
   "execution_count": null,
   "metadata": {},
   "outputs": [],
   "source": []
  },
  {
   "cell_type": "code",
   "execution_count": null,
   "metadata": {},
   "outputs": [],
   "source": []
  },
  {
   "cell_type": "code",
   "execution_count": null,
   "metadata": {},
   "outputs": [],
   "source": []
  },
  {
   "cell_type": "markdown",
   "metadata": {},
   "source": [
    "# PemsBay"
   ]
  },
  {
   "cell_type": "code",
   "execution_count": null,
   "metadata": {},
   "outputs": [],
   "source": [
    "%%opts RGB [tools=[\"hover\"] width=1200 height=1200]\n",
    "\n",
    "r_direct = hv.Curve(get_connected_dots_for_graph(np.load(\"../../data/pems_bay.npz\")[\"edges\"]), label=\"Direct\")\n",
    "datashade(r_direct)"
   ]
  },
  {
   "cell_type": "markdown",
   "metadata": {},
   "source": [
    "# metr-LA"
   ]
  },
  {
   "cell_type": "code",
   "execution_count": null,
   "metadata": {},
   "outputs": [],
   "source": [
    "%%opts RGB [tools=[\"hover\"] width=1200 height=1200]\n",
    "\n",
    "r_direct = hv.Curve(get_connected_dots_for_graph(np.load(\"../../data/metr_la.npz\")[\"edges\"]), label=\"Direct\")\n",
    "datashade(r_direct)"
   ]
  },
  {
   "cell_type": "markdown",
   "metadata": {},
   "source": [
    "# Large_ST"
   ]
  },
  {
   "cell_type": "code",
   "execution_count": null,
   "metadata": {},
   "outputs": [],
   "source": [
    "%%opts RGB [tools=[\"hover\"] width=1200 height=1200]\n",
    "\n",
    "r_direct = hv.Curve(get_connected_dots_for_graph(np.load(\"../../data/largest.npz\")[\"edges\"]), label=\"Direct\")\n",
    "datashade(r_direct)"
   ]
  },
  {
   "cell_type": "code",
   "execution_count": null,
   "metadata": {},
   "outputs": [],
   "source": []
  }
 ],
 "metadata": {
  "kernelspec": {
   "display_name": "graph_ml",
   "language": "python",
   "name": "python3"
  },
  "language_info": {
   "codemirror_mode": {
    "name": "ipython",
    "version": 3
   },
   "file_extension": ".py",
   "mimetype": "text/x-python",
   "name": "python",
   "nbconvert_exporter": "python",
   "pygments_lexer": "ipython3",
   "version": "3.12.7"
  }
 },
 "nbformat": 4,
 "nbformat_minor": 2
}
