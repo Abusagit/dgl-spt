{
 "cells": [
  {
   "cell_type": "code",
   "execution_count": null,
   "metadata": {},
   "outputs": [],
   "source": [
    "%env CUDA_VISIBLE_DEVICES=0\n",
    "\n",
    "import numpy as np\n",
    "import networkx as nx\n",
    "import pandas as pd\n",
    "import cudf\n",
    "import cugraph\n",
    "import time\n",
    "from cuxfilter.charts.datashader.custom_extensions.graph_assets import calc_connected_edges\n",
    "\n",
    "# import plotly.express as px\n",
    "# import plotly.graph_objects as go\n",
    "\n",
    "ITERATIONS=500\n",
    "THETA=1.0\n",
    "OPTIMIZE=True\n",
    "\n",
    "import holoviews as hv\n",
    "\n",
    "from colorcet import fire\n",
    "\n",
    "from holoviews.operation.datashader import datashade, dynspread\n",
    "from holoviews.operation import decimate\n",
    "\n",
    "from dask.distributed import Client\n",
    "import networkx as nx\n",
    "\n",
    "\n",
    "client = Client()\n",
    "hv.notebook_extension('bokeh', 'matplotlib')\n",
    "decimate.max_samples=20000\n",
    "dynspread.threshold=0.01\n",
    "datashade.cmap=fire[40:]\n",
    "sz = dict(width=150,height=150)\n",
    "%opts RGB [xaxis=None yaxis=None show_grid=False bgcolor=\"black\"]\n"
   ]
  },
  {
   "cell_type": "code",
   "execution_count": null,
   "metadata": {},
   "outputs": [],
   "source": [
    "!head music_graph_min_number_of_connections_10_giant_connected_component.csv"
   ]
  },
  {
   "cell_type": "code",
   "execution_count": null,
   "metadata": {},
   "outputs": [],
   "source": [
    "music_graph_edges = pd.read_csv(\"./music_graph_min_number_of_connections_10_giant_connected_component.csv\", index_col=None, header=None)\n",
    "music_graph_edges.columns=[\"source\", \"target\"]\n",
    "music_graph_edges.head()"
   ]
  },
  {
   "cell_type": "code",
   "execution_count": null,
   "metadata": {},
   "outputs": [],
   "source": [
    "G = cugraph.Graph()\n",
    "G.from_pandas_edgelist(music_graph_edges, source=\"source\", destination=\"target\", renumber=True)"
   ]
  },
  {
   "cell_type": "code",
   "execution_count": null,
   "metadata": {},
   "outputs": [],
   "source": [
    "G.degree().to_pandas()"
   ]
  },
  {
   "cell_type": "code",
   "execution_count": null,
   "metadata": {},
   "outputs": [],
   "source": [
    "G.degree().to_pandas()[\"degree\"].value_counts().to_dict()"
   ]
  },
  {
   "cell_type": "code",
   "execution_count": null,
   "metadata": {},
   "outputs": [],
   "source": [
    "G.degree().to_pandas().groupby(\"degree\").count().to_dict()[\"vertex\"]"
   ]
  },
  {
   "cell_type": "code",
   "execution_count": null,
   "metadata": {},
   "outputs": [],
   "source": [
    "import typing as tp"
   ]
  },
  {
   "cell_type": "code",
   "execution_count": null,
   "metadata": {},
   "outputs": [],
   "source": [
    "def get_degree_distribution(G: cugraph.Graph) -> tp.Sequence[int | float]:\n",
    "    degree_to_count: dict[int, int] = G.degree().to_pandas()[\"degree\"].value_counts().to_dict()\n",
    "    max_number_of_connections = G.number_of_nodes() - 1\n",
    "    degree_vector: tp.Sequence[int | float] = np.zeros(max_number_of_connections)\n",
    "\n",
    "    for degree, count in degree_to_count.items():\n",
    "        degree_vector[degree] = count\n",
    "    return degree_vector"
   ]
  },
  {
   "cell_type": "code",
   "execution_count": null,
   "metadata": {},
   "outputs": [],
   "source": [
    "degree_vector = get_degree_distribution(G)"
   ]
  },
  {
   "cell_type": "code",
   "execution_count": null,
   "metadata": {},
   "outputs": [],
   "source": [
    "import plotly.express as px"
   ]
  },
  {
   "cell_type": "code",
   "execution_count": null,
   "metadata": {},
   "outputs": [],
   "source": [
    "px.scatter(x=np.arange(G.number_of_nodes()-1), y=degree_vector, log_x=True, log_y=True, title=\"Degree distribution of Music graph (unnormalized)\")"
   ]
  },
  {
   "cell_type": "code",
   "execution_count": null,
   "metadata": {},
   "outputs": [],
   "source": [
    "px.scatter(x=np.arange(G.number_of_nodes()-1), y=degree_vector / G.number_of_nodes(), log_x=True, log_y=True, title=\"Degree distribution of Music graph (normalized)\")"
   ]
  },
  {
   "cell_type": "code",
   "execution_count": null,
   "metadata": {},
   "outputs": [],
   "source": [
    "G.graph_properties"
   ]
  },
  {
   "cell_type": "code",
   "execution_count": null,
   "metadata": {},
   "outputs": [],
   "source": [
    "G.nodes().values"
   ]
  },
  {
   "cell_type": "code",
   "execution_count": null,
   "metadata": {},
   "outputs": [],
   "source": [
    "a, b, c = cugraph.node2vec(G, start_vertices=G.nodes(), max_depth=5)"
   ]
  },
  {
   "cell_type": "code",
   "execution_count": null,
   "metadata": {},
   "outputs": [],
   "source": [
    "a"
   ]
  },
  {
   "cell_type": "code",
   "execution_count": null,
   "metadata": {},
   "outputs": [],
   "source": [
    "b"
   ]
  },
  {
   "cell_type": "code",
   "execution_count": null,
   "metadata": {},
   "outputs": [],
   "source": [
    "c"
   ]
  },
  {
   "cell_type": "code",
   "execution_count": null,
   "metadata": {},
   "outputs": [],
   "source": []
  }
 ],
 "metadata": {
  "kernelspec": {
   "display_name": "graph_draw",
   "language": "python",
   "name": "python3"
  },
  "language_info": {
   "codemirror_mode": {
    "name": "ipython",
    "version": 3
   },
   "file_extension": ".py",
   "mimetype": "text/x-python",
   "name": "python",
   "nbconvert_exporter": "python",
   "pygments_lexer": "ipython3",
   "version": "3.12.7"
  }
 },
 "nbformat": 4,
 "nbformat_minor": 2
}
